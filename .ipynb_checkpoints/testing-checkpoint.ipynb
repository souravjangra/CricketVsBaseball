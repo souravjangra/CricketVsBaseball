{
 "cells": [
  {
   "cell_type": "code",
   "execution_count": 1,
   "metadata": {},
   "outputs": [
    {
     "name": "stderr",
     "output_type": "stream",
     "text": [
      "WARNING: Logging before flag parsing goes to stderr.\n",
      "W1101 17:38:59.291878  6584 deprecation.py:506] From C:\\Users\\saurabh\\Anaconda3\\lib\\site-packages\\tensorflow_core\\python\\ops\\resource_variable_ops.py:1630: calling BaseResourceVariable.__init__ (from tensorflow.python.ops.resource_variable_ops) with constraint is deprecated and will be removed in a future version.\n",
      "Instructions for updating:\n",
      "If using Keras pass *_constraint arguments to layers.\n"
     ]
    },
    {
     "name": "stdout",
     "output_type": "stream",
     "text": [
      "Loaded Model from disk\n"
     ]
    },
    {
     "name": "stderr",
     "output_type": "stream",
     "text": [
      "Using TensorFlow backend.\n"
     ]
    },
    {
     "name": "stdout",
     "output_type": "stream",
     "text": [
      "enter the url https://i.ytimg.com/vi/O5bV5LVVr5A/maxresdefault.jpg\n",
      "Baseball\n"
     ]
    }
   ],
   "source": [
    "\n",
    "from tensorflow.keras.models import model_from_json\n",
    "\n",
    "# base_model =MobileNetV2(input_shape=(160,160,3),\n",
    "#                                                include_top=False,\n",
    "#                                                weights='imagenet')\n",
    "json_file = open('model.json','r')\n",
    "loaded_model_json = json_file.read()\n",
    "json_file.close()\n",
    "loaded_model = model_from_json(loaded_model_json)\n",
    "#load woeights into new model\n",
    "loaded_model.load_weights(\"ReTraining.h5\")\n",
    "print(\"Loaded Model from disk\")\n",
    "\n",
    "# compile \n",
    "# loaded_model.compile(loss='categorical_crossentropy',optimizer='adam',metrics=['accuracy'])\n",
    "\n",
    "\n",
    "\n",
    "# from tensorflow.keras.layers import Dense,GlobalAveragePooling2D\n",
    "\n",
    "\n",
    "# global_average_layer = tf.keras.layers.GlobalAveragePooling2D()\n",
    "# from tensorflow.keras.layers import Dropout\n",
    "\n",
    "\n",
    "# x=base_model.output\n",
    "# x=GlobalAveragePooling2D()(x)\n",
    "# x=Dense(1024,activation='relu')(x) #we add dense layers so that the model can learn more complex functions and classify for better results.\n",
    "# x=Dropout(0.2)(x)\n",
    "# x=Dense(512,activation='relu')(x) #dense layer 2\n",
    "# x=Dropout(0.2)(x)\n",
    "# x=Dense(256,activation='relu')(x) #dense layer 3\n",
    "# preds=Dense(2,activation='softmax')(x) #final layer with softmax activation\n",
    "\n",
    "\n",
    "# from tensorflow.keras.models import Model\n",
    "\n",
    "\n",
    "# model=Model(inputs=base_model.input,outputs=preds)\n",
    "\n",
    "# model.load_weights('SecondTraining.h5')\n",
    "\n",
    "\n",
    "# Now hoping that model is set and ready let us see how the model is performing on data\n",
    "\n",
    "from keras.preprocessing.image import ImageDataGenerator\n",
    "from keras.preprocessing.image import img_to_array\n",
    "from keras.utils import to_categorical\n",
    "from imutils import paths\n",
    "import matplotlib.pyplot as plt\n",
    "import numpy as np\n",
    "import argparse\n",
    "import random\n",
    "import cv2\n",
    "import os\n",
    "\n",
    "\n",
    "from PIL import Image\n",
    "import requests\n",
    "\n",
    "\n",
    "def weAreLive():\n",
    "    pic_url=input('enter the url ')\n",
    "    with open('test.jpg', 'wb') as handle:\n",
    "            response = requests.get(pic_url, stream=True)\n",
    "\n",
    "            if not response.ok:\n",
    "                print (response)\n",
    "\n",
    "            for block in response.iter_content(1024):\n",
    "                if not block:\n",
    "                    break\n",
    "\n",
    "                handle.write(block)\n",
    "#     preprocessing the image \n",
    "    image = cv2.imread('test.jpg')\n",
    "    image = cv2.resize(image, (160,160))\n",
    "    image = img_to_array(image)\n",
    "#     cv2.imshow('ImageWindow',image)\n",
    "#     cv2.waitKey()\n",
    "#         Making the predictions\n",
    "    res=loaded_model.predict(np.expand_dims(image, axis=0))\n",
    "    if res[0][0]>res[0][1]:\n",
    "        print(\"Baseball\")\n",
    "    else:\n",
    "        print(\"Cricket\")\n",
    "#     deleting the file at last\n",
    "    os.remove(\"test.jpg\")\n",
    "    \n",
    "\n",
    "\n",
    "weAreLive()\n"
   ]
  },
  {
   "cell_type": "code",
   "execution_count": null,
   "metadata": {},
   "outputs": [],
   "source": []
  }
 ],
 "metadata": {
  "kernelspec": {
   "display_name": "Python 3",
   "language": "python",
   "name": "python3"
  },
  "language_info": {
   "codemirror_mode": {
    "name": "ipython",
    "version": 3
   },
   "file_extension": ".py",
   "mimetype": "text/x-python",
   "name": "python",
   "nbconvert_exporter": "python",
   "pygments_lexer": "ipython3",
   "version": "3.6.8"
  }
 },
 "nbformat": 4,
 "nbformat_minor": 2
}
